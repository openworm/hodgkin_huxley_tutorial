{
 "cells": [
  {
   "cell_type": "markdown",
   "id": "67ae3da9",
   "metadata": {},
   "source": [
    "# Google Summer of Code 2022 : Final Submission"
   ]
  },
  {
   "cell_type": "markdown",
   "id": "c0783499",
   "metadata": {},
   "source": [
    "## Hodgkin Huxley Tutorial Notebooks"
   ]
  },
  {
   "cell_type": "code",
   "execution_count": null,
   "id": "e7f9d9b2",
   "metadata": {},
   "outputs": [],
   "source": [
    "import os"
   ]
  },
  {
   "cell_type": "markdown",
   "id": "b382a009",
   "metadata": {},
   "source": [
    "### 1. Python Version"
   ]
  },
  {
   "cell_type": "code",
   "execution_count": null,
   "id": "167d22d1",
   "metadata": {},
   "outputs": [],
   "source": [
    "%run ..\\Python_HH_version\\Python_Notebook_HH.ipynb"
   ]
  },
  {
   "cell_type": "markdown",
   "id": "443fb1d7",
   "metadata": {},
   "source": [
    "### 2. NeuroML Version"
   ]
  },
  {
   "cell_type": "code",
   "execution_count": null,
   "id": "ed847568",
   "metadata": {},
   "outputs": [],
   "source": [
    "os.chdir('../NeuroML_HH_version/')\n",
    "%run NeuroML_Notebook_HH.ipynb"
   ]
  },
  {
   "cell_type": "markdown",
   "id": "8e84a0c6",
   "metadata": {},
   "source": [
    "## NeuroML Generic Notebooks"
   ]
  },
  {
   "cell_type": "markdown",
   "id": "ac6a7d51",
   "metadata": {},
   "source": [
    "### 1. Element Tree Method"
   ]
  },
  {
   "cell_type": "code",
   "execution_count": null,
   "id": "8d83fcc2",
   "metadata": {},
   "outputs": [],
   "source": [
    "os.chdir('../NeuroML_Generic_ET/')\n",
    "%run NeuroML_Notebook_ET.ipynb"
   ]
  },
  {
   "cell_type": "markdown",
   "id": "3edad2ca",
   "metadata": {},
   "source": [
    "### 2. libneuro Method"
   ]
  },
  {
   "cell_type": "code",
   "execution_count": null,
   "id": "777cb77e",
   "metadata": {},
   "outputs": [],
   "source": [
    "os.chdir('../NeuroML_Generic_libneuro/')\n",
    "%run NeuroML_Notebook_libnml.ipynb"
   ]
  },
  {
   "cell_type": "code",
   "execution_count": null,
   "id": "b78405ef",
   "metadata": {},
   "outputs": [],
   "source": []
  }
 ],
 "metadata": {
  "kernelspec": {
   "display_name": "Python 3 (ipykernel)",
   "language": "python",
   "name": "python3"
  },
  "language_info": {
   "codemirror_mode": {
    "name": "ipython",
    "version": 3
   },
   "file_extension": ".py",
   "mimetype": "text/x-python",
   "name": "python",
   "nbconvert_exporter": "python",
   "pygments_lexer": "ipython3",
   "version": "3.8.0"
  }
 },
 "nbformat": 4,
 "nbformat_minor": 5
}
