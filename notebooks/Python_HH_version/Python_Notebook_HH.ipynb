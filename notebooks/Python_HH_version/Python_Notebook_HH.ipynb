{
 "cells": [
  {
   "cell_type": "markdown",
   "metadata": {
    "tags": []
   },
   "source": [
    "# Interactive Tutorial for the Hodgkin Huxley Model"
   ]
  },
  {
   "cell_type": "markdown",
   "metadata": {},
   "source": [
    "This Jupyter notebook can be used to run simulations of a simple single neuron featuring ion channels which behave according to the Hodgkin Huxley model. \n",
    "\n",
    "The model relies on a basic equivalence between a biological membrane plus embedded ion channels, and an electrical circuit.\n"
   ]
  },
  {
   "cell_type": "markdown",
   "metadata": {},
   "source": [
    "<font size=\"5\">Execute the Hodgkin Huxley Model</font>\n",
    "\n",
    "**To execute the notebook and generate the interactive widget below, click the double arrow (&#9654;&#9654;) in the toolbar above**"
   ]
  },
  {
   "cell_type": "code",
   "execution_count": 1,
   "metadata": {},
   "outputs": [
    {
     "data": {
      "application/vnd.jupyter.widget-view+json": {
       "model_id": "d8874c0799cb4f419b18ec02fde66a5b",
       "version_major": 2,
       "version_minor": 0
      },
      "text/plain": [
       "VBox(children=(HBox(children=(HTMLMath(value='<b> Membrane Capacitance, \\\\(\\\\mu{F}/cm^2\\\\)</b>'),)), HBox(chil…"
      ]
     },
     "metadata": {},
     "output_type": "display_data"
    },
    {
     "data": {
      "application/vnd.jupyter.widget-view+json": {
       "model_id": "d406ca44184e4a42bb9f185f00be6132",
       "version_major": 2,
       "version_minor": 0
      },
      "text/plain": [
       "Output()"
      ]
     },
     "metadata": {},
     "output_type": "display_data"
    }
   ],
   "source": [
    "# This is a Python code block which loads the interactive widget\n",
    "\n",
    "%matplotlib ipympl\n",
    "import ui_widget  # ui_widget.py contains the code for creating the widget\n",
    "ui_widget.launch_interactive_widget() # call the method to launch the widget"
   ]
  },
  {
   "cell_type": "markdown",
   "metadata": {},
   "source": [
    ">**Note: Sign of channel current $I_{Na}$, $I_{K}$ and $I_{L}$ are opposite to NeuroML tutorial<br />**\n",
    "The Python code is interested in the current coming through the channel (so positive if flowing \"out\" like K, negative if flowing \"in\", like Na), whereas for the NeuroML channels (more specifically the channel density element) is what's flowing into the cell (so positive for Na)."
   ]
  },
  {
   "cell_type": "markdown",
   "metadata": {},
   "source": [
    "<font size=\"5\">Description of the Plots</font>"
   ]
  },
  {
   "cell_type": "markdown",
   "metadata": {},
   "source": [
    "1) The top-most plot, shows **current injected into the cell membrane**. The amplitude, duration and delay of the injection current can be changed using the above sliders.\n",
    "\n",
    "2) The second plot (the current/time plot) shows the influx (negative y-axis) and outflux (positive y-axis) of **ionic currents** passing through each type of ion channel being modeled.\n",
    "\n",
    "3) The third plot shows the **activation/inactivation variables** of the ion channels in the neuron: activation variable m and inactivation variable h for *Na*, and activation variable n for *K*.\n",
    "\n",
    "4) The bottom plot shows the **neural membrane potential activity**. The spikes here are called \"action potentials\". Outflux of *Na* directly followed by influx of *K* causes the spiking activity observed in the plot.\n"
   ]
  },
  {
   "cell_type": "markdown",
   "metadata": {},
   "source": [
    "<font size=\"5\">Parameters of the Model</font>\n",
    "\n",
    "1) Membrane capacitance, $\\mu{F}/cm^2$\n",
    "2) Maximum Conductances, $mS/cm^2$\n",
    "3) Reversal Potentials, $mV$\n",
    "4) Simulation Parameters (time), $ms$\n",
    "5) Injection Current, $(\\mu{A}/cm^2)$\n"
   ]
  },
  {
   "cell_type": "code",
   "execution_count": null,
   "metadata": {},
   "outputs": [],
   "source": []
  }
 ],
 "metadata": {
  "kernelspec": {
   "display_name": "Python 3 (ipykernel)",
   "language": "python",
   "name": "python3"
  },
  "language_info": {
   "codemirror_mode": {
    "name": "ipython",
    "version": 3
   },
   "file_extension": ".py",
   "mimetype": "text/x-python",
   "name": "python",
   "nbconvert_exporter": "python",
   "pygments_lexer": "ipython3",
   "version": "3.7.7"
  }
 },
 "nbformat": 4,
 "nbformat_minor": 4
}
